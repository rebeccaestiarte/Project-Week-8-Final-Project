{
 "cells": [
  {
   "cell_type": "code",
   "execution_count": 1,
   "metadata": {},
   "outputs": [
    {
     "ename": "NameError",
     "evalue": "name 'Delta' is not defined",
     "output_type": "error",
     "traceback": [
      "\u001b[0;31m---------------------------------------------------------------------------\u001b[0m",
      "\u001b[0;31mNameError\u001b[0m                                 Traceback (most recent call last)",
      "\u001b[0;32m<ipython-input-1-bede0305ebc7>\u001b[0m in \u001b[0;36m<module>\u001b[0;34m\u001b[0m\n\u001b[1;32m      3\u001b[0m     \u001b[0;32mreturn\u001b[0m \u001b[0mdf\u001b[0m\u001b[0;34m\u001b[0m\u001b[0;34m\u001b[0m\u001b[0m\n\u001b[1;32m      4\u001b[0m \u001b[0;34m\u001b[0m\u001b[0m\n\u001b[0;32m----> 5\u001b[0;31m \u001b[0mcalculate_std_bw\u001b[0m\u001b[0;34m(\u001b[0m\u001b[0mDelta\u001b[0m\u001b[0;34m,\u001b[0m \u001b[0;34m\"Delta\"\u001b[0m\u001b[0;34m)\u001b[0m\u001b[0;34m\u001b[0m\u001b[0;34m\u001b[0m\u001b[0m\n\u001b[0m\u001b[1;32m      6\u001b[0m \u001b[0mcalculate_std_bw\u001b[0m\u001b[0;34m(\u001b[0m\u001b[0mTheta\u001b[0m\u001b[0;34m,\u001b[0m \u001b[0;34m\"Theta\"\u001b[0m\u001b[0;34m)\u001b[0m\u001b[0;34m\u001b[0m\u001b[0;34m\u001b[0m\u001b[0m\n\u001b[1;32m      7\u001b[0m \u001b[0mcalculate_std_bw\u001b[0m\u001b[0;34m(\u001b[0m\u001b[0mAlpha\u001b[0m\u001b[0;34m,\u001b[0m \u001b[0;34m\"Alpha\"\u001b[0m\u001b[0;34m)\u001b[0m\u001b[0;34m\u001b[0m\u001b[0;34m\u001b[0m\u001b[0m\n",
      "\u001b[0;31mNameError\u001b[0m: name 'Delta' is not defined"
     ]
    }
   ],
   "source": [
    "def calculate_std_bw(df, brainwave):\n",
    "    df[brainwave] = df.std(axis=1)\n",
    "    return df\n",
    "\n",
    "calculate_std_bw(Delta, \"Delta\") \n",
    "calculate_std_bw(Theta, \"Theta\") \n",
    "calculate_std_bw(Alpha, \"Alpha\") \n",
    "calculate_std_bw(Beta, \"Beta\") \n",
    "calculate_std_bw(Gamma, \"Gamma\")\n",
    "\n",
    "theta_std = Theta.round(5)\n",
    "theta_std = pd.DataFrame(theta_std[\"Theta\"].value_counts()).reset_index().rename(columns={\"index\":\"thetha\"})\n",
    "theta_std = theta_std.drop(columns = [\"Theta\"])\n",
    "\n",
    "delta_std = Delta.round(5)\n",
    "delta_std = pd.DataFrame(delta_std[\"Delta\"].value_counts()).reset_index().rename(columns={\"index\":\"delta\"})\n",
    "delta_std = delta_std.drop(columns = [\"Delta\"])\n",
    "\n",
    "alpha_std = Alpha.round(5)\n",
    "alpha_std = pd.DataFrame(alpha_std[\"Alpha\"].value_counts()).reset_index().rename(columns={\"index\":\"alpha\"})\n",
    "alpha_std = alpha_std.drop(columns = [\"Alpha\"])\n",
    "\n",
    "beta_std = Beta.round(5)\n",
    "beta_std = pd.DataFrame(beta_std[\"Beta\"].value_counts()).reset_index().rename(columns={\"index\":\"beta\"})\n",
    "beta_std = beta_std.drop(columns = [\"Beta\"])\n",
    "\n",
    "gamma_std = Gamma.round(5)\n",
    "gamma_std = pd.DataFrame(gamma_std[\"Gamma\"].value_counts()).reset_index().rename(columns={\"index\":\"gamma\"})\n",
    "gamma_std = gamma_std.drop(columns = [\"Gamma\"])\n",
    "\n",
    "result_std = pd.concat([theta_std, delta_std, alpha_std, beta_std, gamma_std], axis=1, sort=False)\n",
    "result_std"
   ]
  },
  {
   "cell_type": "code",
   "execution_count": null,
   "metadata": {},
   "outputs": [],
   "source": []
  }
 ],
 "metadata": {
  "kernelspec": {
   "display_name": "Python 3",
   "language": "python",
   "name": "python3"
  },
  "language_info": {
   "codemirror_mode": {
    "name": "ipython",
    "version": 3
   },
   "file_extension": ".py",
   "mimetype": "text/x-python",
   "name": "python",
   "nbconvert_exporter": "python",
   "pygments_lexer": "ipython3",
   "version": "3.7.6"
  }
 },
 "nbformat": 4,
 "nbformat_minor": 2
}
