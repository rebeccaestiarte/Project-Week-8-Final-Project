{
 "cells": [
  {
   "cell_type": "markdown",
   "metadata": {},
   "source": [
    "# DATA EXPLORATION & PROCESSING"
   ]
  },
  {
   "cell_type": "code",
   "execution_count": 1,
   "metadata": {},
   "outputs": [],
   "source": [
    "import pandas as pd\n",
    "\n",
    "import statsmodels.api as sm\n",
    "from matplotlib import pyplot as plt\n",
    "\n",
    "import mne\n",
    "%matplotlib inline\n",
    "import numpy as np\n",
    "mne.set_log_level('WARNING')\n",
    "\n",
    "import matplotlib.pyplot as plt\n",
    "import chart_studio.plotly as py\n",
    "import plotly.graph_objs as go"
   ]
  },
  {
   "cell_type": "code",
   "execution_count": null,
   "metadata": {},
   "outputs": [],
   "source": [
    "ex1_normal = pd.read_csv(\"/Users/rebeccaestiarte/Desktop/IronHack/PROJECTS/Project-Week-8-Final-Project/your-project/Raw Data/museMonitor - Normal_2020-03-06--14-13-47_2885111221865233217.csv\")"
   ]
  },
  {
   "cell_type": "code",
   "execution_count": null,
   "metadata": {},
   "outputs": [],
   "source": [
    "ex1_normal"
   ]
  },
  {
   "cell_type": "code",
   "execution_count": null,
   "metadata": {},
   "outputs": [],
   "source": [
    "test = pd.read_csv(\"/Users/rebeccaestiarte/Desktop/IronHack/PROJECTS/Project-Week-8-Final-Project/your-project/Raw Data/test.csv\")"
   ]
  },
  {
   "cell_type": "markdown",
   "metadata": {},
   "source": [
    "## DATA EXPLORATION"
   ]
  },
  {
   "cell_type": "code",
   "execution_count": null,
   "metadata": {},
   "outputs": [],
   "source": [
    "test"
   ]
  },
  {
   "cell_type": "code",
   "execution_count": null,
   "metadata": {},
   "outputs": [],
   "source": [
    "test = test.head(2000)"
   ]
  },
  {
   "cell_type": "code",
   "execution_count": null,
   "metadata": {},
   "outputs": [],
   "source": [
    "test.dtypes"
   ]
  },
  {
   "cell_type": "code",
   "execution_count": null,
   "metadata": {},
   "outputs": [],
   "source": [
    "test.columns"
   ]
  },
  {
   "cell_type": "code",
   "execution_count": null,
   "metadata": {},
   "outputs": [],
   "source": [
    "test.dtypes.isna().sum()"
   ]
  },
  {
   "cell_type": "markdown",
   "metadata": {},
   "source": [
    "## DATA CLEANING"
   ]
  },
  {
   "cell_type": "code",
   "execution_count": null,
   "metadata": {},
   "outputs": [],
   "source": [
    "# Creating Dataframe for each brainwave type\n",
    "Delta = test[[\"Delta_TP9\", \"Delta_AF7\", \"Delta_AF8\", \"Delta_TP10\"]]\n",
    "Theta = test[['Theta_TP9', 'Theta_AF7', 'Theta_AF8', 'Theta_TP10']]\n",
    "Alpha = test[['Alpha_TP9','Alpha_AF7', 'Alpha_AF8', 'Alpha_TP10']]\n",
    "Beta = test[['Beta_TP9', 'Beta_AF7', 'Beta_AF8', 'Beta_TP10']]\n",
    "Gamma = test[['Gamma_TP9', 'Gamma_AF7', 'Gamma_AF8','Gamma_TP10']]\n",
    "\n",
    "time = test[\"TimeStamp\"]"
   ]
  },
  {
   "cell_type": "code",
   "execution_count": null,
   "metadata": {
    "scrolled": false
   },
   "outputs": [],
   "source": [
    "# Adding mean of recording by brainwave type and adding on new column\n",
    "brainwaves = [\"Delta\", \"Theta\", \"Alpha\", \"Beta\", \"Gamma\"]\n",
    "\n",
    "def calculate_mean_bw(df, brainwave):\n",
    "    df[brainwave] = df.mean(axis=1)\n",
    "    return df[brainwave]\n",
    "\n",
    "calculate_mean_bw(Delta, \"Delta\") \n",
    "calculate_mean_bw(Theta, \"Theta\") \n",
    "calculate_mean_bw(Alpha, \"Alpha\") \n",
    "calculate_mean_bw(Beta, \"Beta\") \n",
    "calculate_mean_bw(Gamma, \"Gamma\") "
   ]
  },
  {
   "cell_type": "code",
   "execution_count": null,
   "metadata": {
    "scrolled": true
   },
   "outputs": [],
   "source": [
    "#Concatenating all results into a dataframe\n",
    "\n",
    "result_tot = pd.concat([time, Delta, Theta, Alpha, Beta, Gamma], axis=1, sort=False)\n",
    "result_tot "
   ]
  },
  {
   "cell_type": "code",
   "execution_count": null,
   "metadata": {},
   "outputs": [],
   "source": [
    "result_tot.describe()"
   ]
  },
  {
   "cell_type": "code",
   "execution_count": null,
   "metadata": {},
   "outputs": [],
   "source": [
    "result_tot.isna().sum()"
   ]
  },
  {
   "cell_type": "code",
   "execution_count": null,
   "metadata": {
    "scrolled": true
   },
   "outputs": [],
   "source": [
    "theta_avg = Theta.round(5)\n",
    "theta_avg = pd.DataFrame(theta_avg[\"Theta\"].value_counts()).reset_index().rename(columns={\"index\":\"theta\"})\n",
    "theta_avg = theta_avg.drop(columns = [\"Theta\"])\n",
    "\n",
    "delta_avg = Delta.round(5)\n",
    "delta_avg = pd.DataFrame(delta_avg[\"Delta\"].value_counts()).reset_index().rename(columns={\"index\":\"delta\"})\n",
    "delta_avg = delta_avg.drop(columns = [\"Delta\"])\n",
    "\n",
    "alpha_avg = Alpha.round(5)\n",
    "alpha_avg = pd.DataFrame(alpha_avg[\"Alpha\"].value_counts()).reset_index().rename(columns={\"index\":\"alpha\"})\n",
    "alpha_avg = alpha_avg.drop(columns = [\"Alpha\"])\n",
    "\n",
    "beta_avg = Beta.round(5)\n",
    "beta_avg = pd.DataFrame(beta_avg[\"Beta\"].value_counts()).reset_index().rename(columns={\"index\":\"beta\"})\n",
    "beta_avg = beta_avg.drop(columns = [\"Beta\"])\n",
    "\n",
    "gamma_avg = Gamma.round(5)\n",
    "gamma_avg = pd.DataFrame(gamma_avg[\"Gamma\"].value_counts()).reset_index().rename(columns={\"index\":\"gamma\"})\n",
    "gamma_avg = gamma_avg.drop(columns = [\"Gamma\"])\n",
    "\n",
    "result_avg = pd.concat([theta_avg, delta_avg, alpha_avg, beta_avg, gamma_avg], axis=1, sort=False)\n",
    "result_avg"
   ]
  },
  {
   "cell_type": "code",
   "execution_count": null,
   "metadata": {},
   "outputs": [],
   "source": [
    "result_avg.describe()"
   ]
  },
  {
   "cell_type": "code",
   "execution_count": null,
   "metadata": {},
   "outputs": [],
   "source": [
    "sns.distplot(result_avg[\"gamma\"])"
   ]
  },
  {
   "cell_type": "code",
   "execution_count": null,
   "metadata": {
    "scrolled": true
   },
   "outputs": [],
   "source": [
    "import seaborn as sns\n",
    "\n",
    "sns.distplot(result_avg[\"alpha\"])\n",
    "sns.distplot(result_avg[\"theta\"])\n",
    "sns.distplot(result_avg[\"delta\"])\n",
    "sns.distplot(result_avg[\"beta\"])\n",
    "sns.distplot(result_avg[\"gamma\"])\n",
    "\n",
    "import statsmodels.api as sm\n",
    "from matplotlib import pyplot as plt\n",
    "from statsmodels.graphics.gofplots import qqplot\n",
    "\n",
    "data = pd.DataFrame(result_avg[\"gamma\"])\n",
    "qqplot(data, line='s')\n",
    "plt.show()"
   ]
  },
  {
   "cell_type": "code",
   "execution_count": null,
   "metadata": {},
   "outputs": [],
   "source": [
    "result_avg.head()"
   ]
  },
  {
   "cell_type": "code",
   "execution_count": null,
   "metadata": {},
   "outputs": [],
   "source": [
    "plt.figure(figsize=(15,10))\n",
    "plt.plot(result)\n",
    "plt.xlabel('time (t)')\n",
    "plt.ylabel('EEG data (T)')\n",
    "\n",
    "#Adding legend"
   ]
  },
  {
   "cell_type": "code",
   "execution_count": null,
   "metadata": {},
   "outputs": [],
   "source": [
    "time = test[\"TimeStamp\"] #have to add time somehow\n",
    "data = test[[\"delta\",\"alpha\", \"beta\", \"gamma\", \"theta\"]]\n",
    "\n",
    "columns = [\"Delta_TP9\", \"Alpha_TP9\",\"Beta_TP9\", \"Gamma_TP9\", \"Theta_TP9\"]"
   ]
  },
  {
   "cell_type": "code",
   "execution_count": null,
   "metadata": {},
   "outputs": [],
   "source": [
    "import matplotlib.pyplot as plt\n",
    "import chart_studio.plotly as py\n",
    "import plotly.graph_objs as go\n",
    "\n",
    "plt.figure(figsize=(15,10))\n",
    "plt.plot(time, data)\n",
    "plt.xlabel('time (t)')\n",
    "plt.ylabel('EEG data (T)')\n",
    "\n",
    "update = dict(layout=dict(showlegend=True), data=[dict(name=columns[p]) for p in data])\n",
    "py.iplot_mpl(plt.gcf(), update=update)"
   ]
  },
  {
   "cell_type": "code",
   "execution_count": null,
   "metadata": {},
   "outputs": [],
   "source": [
    "test[[\"Delta_TP9\", \"Delta_AF7\", \"Delta_AF8\", \"Delta_TP10\",'Theta_TP9', 'Theta_AF7', 'Theta_AF8', 'Theta_TP10','Alpha_TP9','Alpha_AF7', 'Alpha_AF8', 'Alpha_TP10','Beta_TP9', 'Beta_AF7', 'Beta_AF8', 'Beta_TP10','Gamma_TP9', 'Gamma_AF7', 'Gamma_AF8','Gamma_TP10']].head(200)"
   ]
  },
  {
   "cell_type": "code",
   "execution_count": null,
   "metadata": {},
   "outputs": [],
   "source": [
    "test[[\"Delta_TP9\", \"Delta_AF7\", \"Delta_AF8\", \"Delta_TP10\",'Theta_TP9', 'Theta_AF7', 'Theta_AF8', 'Theta_TP10','Alpha_TP9','Alpha_AF7', 'Alpha_AF8', 'Alpha_TP10','Beta_TP9', 'Beta_AF7', 'Beta_AF8', 'Beta_TP10','Gamma_TP9', 'Gamma_AF7', 'Gamma_AF8','Gamma_TP10']].tail(200)"
   ]
  },
  {
   "cell_type": "code",
   "execution_count": null,
   "metadata": {},
   "outputs": [],
   "source": [
    "test.describe()"
   ]
  },
  {
   "cell_type": "code",
   "execution_count": null,
   "metadata": {},
   "outputs": [],
   "source": [
    "x = np.random.normal(size=100)\n",
    "sns.distplot(x);"
   ]
  },
  {
   "cell_type": "code",
   "execution_count": null,
   "metadata": {},
   "outputs": [],
   "source": []
  },
  {
   "cell_type": "markdown",
   "metadata": {},
   "source": [
    "## EXTRAS"
   ]
  },
  {
   "cell_type": "code",
   "execution_count": null,
   "metadata": {},
   "outputs": [],
   "source": [
    "load('demo_data')\n",
    "brain_fig = plot_mesh_brain(brain_data.pial_right)\n",
    "brain_data = get(gca, 'Children')\n",
    "\n",
    "# extract brain data from figure\n",
    "\n",
    "# handle vertices\n",
    "x_data = brain_data(2).Vertices(:,1)\n",
    "y_data = brain_data(2).Vertices(:,2)\n",
    "z_data = brain_data(2).Vertices(:,3)\n",
    "\n",
    "# specify how vertices connect to form the faces\n",
    "i_data = brain_data(2).Faces(:,1)-1\n",
    "j_data = brain_data(2).Faces(:,2)-1\n",
    "k_data = brain_data(2).Faces(:,3)-1\n",
    "\n",
    "# construct plotly figure\n",
    "brain_plotly_fig = plotlyfig('visible', 'off', 'strip', false, 'world_readable', false); \n",
    "brain_plotly_data.x = x_data\n",
    "brain_plotly_data.y = y_data\n",
    "brain_plotly_data.z = z_data\n",
    "brain_plotly_data.i = i_data\n",
    "brain_plotly_data.j = j_data\n",
    "brain_plotly_data.k = k_data\n",
    "brain_plotly_data.type = 'mesh3d'\n",
    "brain_plotly_data.intensity = x_data\n",
    "brain_plotly_data.colorscale = 'Electric'\n",
    "\n",
    "# add a second trace for 3D scatter points\n",
    "points_of_interest = [100, 1000, 10000]\n",
    "scatter_plotly_data.x = x_data(points_of_interest)\n",
    "scatter_plotly_data.y = y_data(points_of_interest)\n",
    "scatter_plotly_data.z = z_data(points_of_interest)\n",
    "scatter_plotly_data.marker.size=20\n",
    "scatter_plotly_data.marker.color='yellow'\n",
    "scatter_plotly_data.marker.opacity='0.4'\n",
    "scatter_plotly_data.mode = 'markers'\n",
    "scatter_plotly_data.type= 'scatter3d'\n",
    "\n",
    "# add data\n",
    "brain_plotly_fig.data = {brain_plotly_data, scatter_plotly_data};\n",
    "\n",
    "# adjust the layout\n",
    "brain_plotly_fig.layout.scene.xaxis.dtick = 30\n",
    "brain_plotly_fig.layout.scene.yaxis.dtick = 30\n",
    "brain_plotly_fig.layout.scene.zaxis.dtick = 30\n",
    " "
   ]
  },
  {
   "cell_type": "code",
   "execution_count": null,
   "metadata": {},
   "outputs": [],
   "source": [
    "test"
   ]
  },
  {
   "cell_type": "code",
   "execution_count": null,
   "metadata": {},
   "outputs": [],
   "source": [
    "# h0 : mu1 != mu2\n",
    "# H1: mu1 = mu2\n",
    "\n",
    "#https://towardsdatascience.com/hypothesis-testing-in-real-life-47f42420b1f7\n"
   ]
  },
  {
   "cell_type": "code",
   "execution_count": null,
   "metadata": {},
   "outputs": [],
   "source": [
    "i"
   ]
  },
  {
   "cell_type": "code",
   "execution_count": null,
   "metadata": {},
   "outputs": [],
   "source": []
  },
  {
   "cell_type": "code",
   "execution_count": null,
   "metadata": {},
   "outputs": [],
   "source": []
  },
  {
   "cell_type": "code",
   "execution_count": null,
   "metadata": {},
   "outputs": [],
   "source": [
    "stats.model.OLS"
   ]
  }
 ],
 "metadata": {
  "kernelspec": {
   "display_name": "Python 3",
   "language": "python",
   "name": "python3"
  },
  "language_info": {
   "codemirror_mode": {
    "name": "ipython",
    "version": 3
   },
   "file_extension": ".py",
   "mimetype": "text/x-python",
   "name": "python",
   "nbconvert_exporter": "python",
   "pygments_lexer": "ipython3",
   "version": "3.8.1"
  }
 },
 "nbformat": 4,
 "nbformat_minor": 2
}
